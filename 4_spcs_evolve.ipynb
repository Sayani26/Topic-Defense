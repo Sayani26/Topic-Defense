{
  "nbformat": 4,
  "nbformat_minor": 0,
  "metadata": {
    "colab": {
      "name": "4_spcs_evolve.ipynb",
      "provenance": [],
      "collapsed_sections": [],
      "include_colab_link": true
    },
    "kernelspec": {
      "name": "python3",
      "display_name": "Python 3"
    },
    "language_info": {
      "name": "python"
    }
  },
  "cells": [
    {
      "cell_type": "markdown",
      "metadata": {
        "id": "view-in-github",
        "colab_type": "text"
      },
      "source": [
        "<a href=\"https://colab.research.google.com/github/Sayani26/Topic-Defense/blob/main/4_spcs_evolve.ipynb\" target=\"_parent\"><img src=\"https://colab.research.google.com/assets/colab-badge.svg\" alt=\"Open In Colab\"/></a>"
      ]
    },
    {
      "cell_type": "markdown",
      "metadata": {
        "id": "_liKK8p2dEsK"
      },
      "source": [
        "This notebook runs a time evolution calculation for a 4-species system with weak rates turned on. The weak rates are turned on at a delayed time when the system has already achieved NSE.  "
      ]
    },
    {
      "cell_type": "markdown",
      "metadata": {
        "id": "oXA3i_uOdn8N"
      },
      "source": [
        "1) Importing ode from scipy to solve coupled ordinary differential equations of the network"
      ]
    },
    {
      "cell_type": "code",
      "metadata": {
        "id": "axcGMpFMedCe"
      },
      "source": [
        "from scipy.integrate import ode\n",
        "from scipy import special"
      ],
      "execution_count": null,
      "outputs": []
    },
    {
      "cell_type": "markdown",
      "metadata": {
        "id": "XOuyJqW5ewD8"
      },
      "source": [
        "2) Defining the strong electromgnetic rates $\\lambda_{ij}$"
      ]
    },
    {
      "cell_type": "code",
      "metadata": {
        "id": "fPEy9arve-lU"
      },
      "source": [
        "l_12 = 1.0\n",
        "l_21 = 1.0\n",
        "l_13 = 1.0\n",
        "l_31 = 1.0\n",
        "l_34 = 1.0\n",
        "l_43 = 1.0\n",
        "l_24 = 1.0\n",
        "l_42 = 1.0"
      ],
      "execution_count": null,
      "outputs": []
    },
    {
      "cell_type": "markdown",
      "metadata": {
        "id": "57g1CiuPfHEg"
      },
      "source": [
        "3) Defining the ODEs "
      ]
    },
    {
      "cell_type": "code",
      "metadata": {
        "id": "ymAS6oOEfPQM"
      },
      "source": [
        "def f(t, x):\n",
        "    factor = 0.5 * (1 + special.erf((t - 10)/1))\n",
        "    L_13 = 5 * factor\n",
        "    L_42 = 3 * factor\n",
        "    factor1 = 0.5 * (1 + special.erf((t - 100)/1))\n",
        "    L_31 = 5 * factor1\n",
        "    L_24 = 3 * factor1\n",
        "    return [\n",
        "      -l_12 * x[0] -l_13 * x[0] - L_13 * x[0] + l_21 * x[1] + l_31 * x[2] + L_31 *x[2] ,\n",
        "            l_12 * x[0] - l_21 * x[1] - l_24 * x[1] -L_24 * x[1] + l_42 * x[3] + L_42 * x[3], \n",
        "              l_13 * x[0] + L_13 * x[0] - l_31 * x[2] -L_31 * x[2] - l_34 * x[2] + l_43 * x[3],\n",
        "               l_24 * x[1] + L_24 * x[1] + l_34 * x[2] - l_43 * x[3] - l_42 * x[3] - L_42 * x[3],\n",
        "    ]\n"
      ],
      "execution_count": null,
      "outputs": []
    },
    {
      "cell_type": "markdown",
      "metadata": {
        "id": "fjuHJ364fVtE"
      },
      "source": [
        "4)Defining the initial values for solving the ODEs"
      ]
    },
    {
      "cell_type": "code",
      "metadata": {
        "id": "QcrBw8M-fqjC"
      },
      "source": [
        "t0 = 0\n",
        "x0 = [0.5, 0.2, 0.1, 0.2]"
      ],
      "execution_count": null,
      "outputs": []
    },
    {
      "cell_type": "markdown",
      "metadata": {
        "id": "dhZI-lkxfu7K"
      },
      "source": [
        "5)Solving the ODEs and creating the arrays with the mass fractions"
      ]
    },
    {
      "cell_type": "code",
      "metadata": {
        "id": "Xn9d-1DZf74y"
      },
      "source": [
        "r = ode(f).set_integrator('lsoda', method='bdf')\n",
        "r.set_initial_value(x0, t0)\n",
        "t1 = 1000\n",
        "dt = 0.0001\n",
        "time = [0]\n",
        "xv = [x0]\n",
        "while r.successful() and r.t < t1:\n",
        "    time.append(r.t+dt), xv.append(r.integrate(r.t+dt))\n",
        "\n",
        "x1 = []\n",
        "x2 = []\n",
        "x3 = []\n",
        "x4 = []\n",
        "\n",
        "for xx in xv:\n",
        "    x1.append(xx[0])\n",
        "    x2.append(xx[1])\n",
        "    x3.append(xx[2])\n",
        "    x4.append(xx[3])"
      ],
      "execution_count": null,
      "outputs": []
    },
    {
      "cell_type": "markdown",
      "metadata": {
        "id": "m8M5yNBwgCE3"
      },
      "source": [
        "6) Importing matplotlib to plot"
      ]
    },
    {
      "cell_type": "code",
      "metadata": {
        "id": "CXCgJmeugF22"
      },
      "source": [
        "import matplotlib.pyplot as plt"
      ],
      "execution_count": null,
      "outputs": []
    },
    {
      "cell_type": "markdown",
      "metadata": {
        "id": "e-iKFpXLgKaJ"
      },
      "source": [
        "7) Plotting the mass fractions"
      ]
    },
    {
      "cell_type": "code",
      "metadata": {
        "colab": {
          "base_uri": "https://localhost:8080/",
          "height": 283
        },
        "id": "7Fy_vWFOgRvk",
        "outputId": "9c4266b4-224f-49c5-d4bd-88ab61877f50"
      },
      "source": [
        "plt.figure(1)\n",
        "plt.plot(time, x1, label = '$X_1$')\n",
        "plt.plot(time, x2, label = '$X_2$')\n",
        "plt.plot(time, x3, ':', label = '$X_3$')\n",
        "plt.plot(time, x4, ':', label = '$X_4$')\n",
        "plt.xscale('log') \n",
        "plt.xlabel('Time (s)')\n",
        "plt.ylabel('Mass Fractions')\n",
        "plt.legend()\n",
        "plt.show() "
      ],
      "execution_count": null,
      "outputs": [
        {
          "output_type": "display_data",
          "data": {
            "image/png": "[encoded data removed]",
            "text/plain": [
              "<Figure size 432x288 with 1 Axes>"
            ]
          },
          "metadata": {
            "tags": [],
            "needs_background": "light"
          }
        }
      ]
    },
    {
      "cell_type": "markdown",
      "metadata": {
        "id": "v7wpM442gdfB"
      },
      "source": [
        "8) Importing numpy"
      ]
    },
    {
      "cell_type": "code",
      "metadata": {
        "id": "WE0N86WDgpKB"
      },
      "source": [
        "import numpy as np"
      ],
      "execution_count": null,
      "outputs": []
    },
    {
      "cell_type": "markdown",
      "metadata": {
        "id": "g5YNNyclgrXB"
      },
      "source": [
        "9) Defining the weak rates $\\Lambda_{ij}$ "
      ]
    },
    {
      "cell_type": "code",
      "metadata": {
        "id": "PnDvhBCLg5TT"
      },
      "source": [
        "t_1 = np.linspace(0,1000,10000002)\n",
        "factor = 0.5 * (1 + special.erf((t_1 - 10)/1))\n",
        "L_13 = 5 * factor\n",
        "L_42 = 3 * factor\n",
        "\n",
        "factor1 = 0.5 * (1 + special.erf((t_1 - 100)/1))\n",
        "L_31 = 5 * factor1\n",
        "L_24 = 3 * factor1"
      ],
      "execution_count": null,
      "outputs": []
    },
    {
      "cell_type": "markdown",
      "metadata": {
        "id": "IQy-zH2wg9gP"
      },
      "source": [
        "10) Plotting the weak rates"
      ]
    },
    {
      "cell_type": "code",
      "metadata": {
        "colab": {
          "base_uri": "https://localhost:8080/",
          "height": 253
        },
        "id": "EA5f01fUhDqq",
        "outputId": "5b5e0c5f-c267-44ed-9fee-eebbcbb1d17f"
      },
      "source": [
        "plt.figure(2)\n",
        "plt.plot(t_1, L_13, label = '$L_{13}$')\n",
        "plt.plot(t_1, L_42, label = '$L_{42}$')\n",
        "plt.plot(t_1, L_31, label = '$L_{31}$')\n",
        "plt.plot(t_1, L_24, label = '$L_{24}$')\n",
        "plt.xscale('log') \n",
        "plt.xlabel('Time (s)')\n",
        "plt.ylabel(r'$\\Lambda$')\n",
        "plt.legend()\n",
        "plt.show()  "
      ],
      "execution_count": null,
      "outputs": [
        {
          "output_type": "error",
          "ename": "NameError",
          "evalue": "ignored",
          "traceback": [
            "\u001b[0;31m---------------------------------------------------------------------------\u001b[0m",
            "\u001b[0;31mNameError\u001b[0m                                 Traceback (most recent call last)",
            "\u001b[0;32m<ipython-input-4-2700d2a6ddea>\u001b[0m in \u001b[0;36m<module>\u001b[0;34m()\u001b[0m\n\u001b[1;32m      1\u001b[0m \u001b[0mplt\u001b[0m\u001b[0;34m.\u001b[0m\u001b[0mfigure\u001b[0m\u001b[0;34m(\u001b[0m\u001b[0;36m2\u001b[0m\u001b[0;34m)\u001b[0m\u001b[0;34m\u001b[0m\u001b[0;34m\u001b[0m\u001b[0m\n\u001b[0;32m----> 2\u001b[0;31m \u001b[0mplt\u001b[0m\u001b[0;34m.\u001b[0m\u001b[0mplot\u001b[0m\u001b[0;34m(\u001b[0m\u001b[0mt_1\u001b[0m\u001b[0;34m,\u001b[0m \u001b[0mL_13\u001b[0m\u001b[0;34m,\u001b[0m \u001b[0mlabel\u001b[0m \u001b[0;34m=\u001b[0m \u001b[0;34m'$L_{13}$'\u001b[0m\u001b[0;34m)\u001b[0m\u001b[0;34m\u001b[0m\u001b[0;34m\u001b[0m\u001b[0m\n\u001b[0m\u001b[1;32m      3\u001b[0m \u001b[0mplt\u001b[0m\u001b[0;34m.\u001b[0m\u001b[0mplot\u001b[0m\u001b[0;34m(\u001b[0m\u001b[0mt_1\u001b[0m\u001b[0;34m,\u001b[0m \u001b[0mL_42\u001b[0m\u001b[0;34m,\u001b[0m \u001b[0mlabel\u001b[0m \u001b[0;34m=\u001b[0m \u001b[0;34m'$L_{42}$'\u001b[0m\u001b[0;34m)\u001b[0m\u001b[0;34m\u001b[0m\u001b[0;34m\u001b[0m\u001b[0m\n\u001b[1;32m      4\u001b[0m \u001b[0mplt\u001b[0m\u001b[0;34m.\u001b[0m\u001b[0mplot\u001b[0m\u001b[0;34m(\u001b[0m\u001b[0mt_1\u001b[0m\u001b[0;34m,\u001b[0m \u001b[0mL_31\u001b[0m\u001b[0;34m,\u001b[0m \u001b[0mlabel\u001b[0m \u001b[0;34m=\u001b[0m \u001b[0;34m'$L_{31}$'\u001b[0m\u001b[0;34m)\u001b[0m\u001b[0;34m\u001b[0m\u001b[0;34m\u001b[0m\u001b[0m\n\u001b[1;32m      5\u001b[0m \u001b[0mplt\u001b[0m\u001b[0;34m.\u001b[0m\u001b[0mplot\u001b[0m\u001b[0;34m(\u001b[0m\u001b[0mt_1\u001b[0m\u001b[0;34m,\u001b[0m \u001b[0mL_24\u001b[0m\u001b[0;34m,\u001b[0m \u001b[0mlabel\u001b[0m \u001b[0;34m=\u001b[0m \u001b[0;34m'$L_{24}$'\u001b[0m\u001b[0;34m)\u001b[0m\u001b[0;34m\u001b[0m\u001b[0;34m\u001b[0m\u001b[0m\n",
            "\u001b[0;31mNameError\u001b[0m: name 't_1' is not defined"
          ]
        },
        {
          "output_type": "display_data",
          "data": {
            "text/plain": [
              "<Figure size 432x288 with 0 Axes>"
            ]
          },
          "metadata": {
            "tags": []
          }
        }
      ]
    },
    {
      "cell_type": "markdown",
      "metadata": {
        "id": "O7h8elAEhIc0"
      },
      "source": [
        "11) Computing the flows"
      ]
    },
    {
      "cell_type": "code",
      "metadata": {
        "colab": {
          "base_uri": "https://localhost:8080/",
          "height": 218
        },
        "id": "Gj2yxujNhNZC",
        "outputId": "baf989da-2c76-4ed2-aed5-4f3bd6d69db6"
      },
      "source": [
        "f13 = [((l_13 + w1) * a - (l_31 + w2) * b) for a, b, w1, w2 in zip(x1,x3, L_13, L_31)]\n",
        "f34 = [(l_34 * a - l_43 * b) for a, b in zip(x3,x4)]\n",
        "f42 = [((l_42 + w1) * a - (l_24 + w2 )* b) for a, b, w1, w2 in zip (x4,x2, L_42, L_24)]\n",
        "f21 = [(l_21 * a - l_12 * b) for a, b in zip (x2,x1)]"
      ],
      "execution_count": null,
      "outputs": [
        {
          "output_type": "error",
          "ename": "NameError",
          "evalue": "ignored",
          "traceback": [
            "\u001b[0;31m---------------------------------------------------------------------------\u001b[0m",
            "\u001b[0;31mNameError\u001b[0m                                 Traceback (most recent call last)",
            "\u001b[0;32m<ipython-input-3-8a824b1cc270>\u001b[0m in \u001b[0;36m<module>\u001b[0;34m()\u001b[0m\n\u001b[0;32m----> 1\u001b[0;31m \u001b[0mf13\u001b[0m \u001b[0;34m=\u001b[0m \u001b[0;34m[\u001b[0m\u001b[0;34m(\u001b[0m\u001b[0;34m(\u001b[0m\u001b[0ml_13\u001b[0m \u001b[0;34m+\u001b[0m \u001b[0mw1\u001b[0m\u001b[0;34m)\u001b[0m \u001b[0;34m*\u001b[0m \u001b[0ma\u001b[0m \u001b[0;34m-\u001b[0m \u001b[0;34m(\u001b[0m\u001b[0ml_31\u001b[0m \u001b[0;34m+\u001b[0m \u001b[0mw2\u001b[0m\u001b[0;34m)\u001b[0m \u001b[0;34m*\u001b[0m \u001b[0mb\u001b[0m\u001b[0;34m)\u001b[0m \u001b[0;32mfor\u001b[0m \u001b[0ma\u001b[0m\u001b[0;34m,\u001b[0m \u001b[0mb\u001b[0m\u001b[0;34m,\u001b[0m \u001b[0mw1\u001b[0m\u001b[0;34m,\u001b[0m \u001b[0mw2\u001b[0m \u001b[0;32min\u001b[0m \u001b[0mzip\u001b[0m\u001b[0;34m(\u001b[0m\u001b[0mx1\u001b[0m\u001b[0;34m,\u001b[0m\u001b[0mx3\u001b[0m\u001b[0;34m,\u001b[0m \u001b[0mL_13\u001b[0m\u001b[0;34m,\u001b[0m \u001b[0mL_31\u001b[0m\u001b[0;34m)\u001b[0m\u001b[0;34m]\u001b[0m\u001b[0;34m\u001b[0m\u001b[0;34m\u001b[0m\u001b[0m\n\u001b[0m\u001b[1;32m      2\u001b[0m \u001b[0mf34\u001b[0m \u001b[0;34m=\u001b[0m \u001b[0;34m[\u001b[0m\u001b[0;34m(\u001b[0m\u001b[0ml_34\u001b[0m \u001b[0;34m*\u001b[0m \u001b[0ma\u001b[0m \u001b[0;34m-\u001b[0m \u001b[0ml_43\u001b[0m \u001b[0;34m*\u001b[0m \u001b[0mb\u001b[0m\u001b[0;34m)\u001b[0m \u001b[0;32mfor\u001b[0m \u001b[0ma\u001b[0m\u001b[0;34m,\u001b[0m \u001b[0mb\u001b[0m \u001b[0;32min\u001b[0m \u001b[0mzip\u001b[0m\u001b[0;34m(\u001b[0m\u001b[0mx3\u001b[0m\u001b[0;34m,\u001b[0m\u001b[0mx4\u001b[0m\u001b[0;34m)\u001b[0m\u001b[0;34m]\u001b[0m\u001b[0;34m\u001b[0m\u001b[0;34m\u001b[0m\u001b[0m\n\u001b[1;32m      3\u001b[0m \u001b[0mf42\u001b[0m \u001b[0;34m=\u001b[0m \u001b[0;34m[\u001b[0m\u001b[0;34m(\u001b[0m\u001b[0;34m(\u001b[0m\u001b[0ml_42\u001b[0m \u001b[0;34m+\u001b[0m \u001b[0mw1\u001b[0m\u001b[0;34m)\u001b[0m \u001b[0;34m*\u001b[0m \u001b[0ma\u001b[0m \u001b[0;34m-\u001b[0m \u001b[0;34m(\u001b[0m\u001b[0ml_24\u001b[0m \u001b[0;34m+\u001b[0m \u001b[0mw2\u001b[0m \u001b[0;34m)\u001b[0m\u001b[0;34m*\u001b[0m \u001b[0mb\u001b[0m\u001b[0;34m)\u001b[0m \u001b[0;32mfor\u001b[0m \u001b[0ma\u001b[0m\u001b[0;34m,\u001b[0m \u001b[0mb\u001b[0m\u001b[0;34m,\u001b[0m \u001b[0mw1\u001b[0m\u001b[0;34m,\u001b[0m \u001b[0mw2\u001b[0m \u001b[0;32min\u001b[0m \u001b[0mzip\u001b[0m \u001b[0;34m(\u001b[0m\u001b[0mx4\u001b[0m\u001b[0;34m,\u001b[0m\u001b[0mx2\u001b[0m\u001b[0;34m,\u001b[0m \u001b[0mL_42\u001b[0m\u001b[0;34m,\u001b[0m \u001b[0mL_24\u001b[0m\u001b[0;34m)\u001b[0m\u001b[0;34m]\u001b[0m\u001b[0;34m\u001b[0m\u001b[0;34m\u001b[0m\u001b[0m\n\u001b[1;32m      4\u001b[0m \u001b[0mf21\u001b[0m \u001b[0;34m=\u001b[0m \u001b[0;34m[\u001b[0m\u001b[0;34m(\u001b[0m\u001b[0ml_21\u001b[0m \u001b[0;34m*\u001b[0m \u001b[0ma\u001b[0m \u001b[0;34m-\u001b[0m \u001b[0ml_12\u001b[0m \u001b[0;34m*\u001b[0m \u001b[0mb\u001b[0m\u001b[0;34m)\u001b[0m \u001b[0;32mfor\u001b[0m \u001b[0ma\u001b[0m\u001b[0;34m,\u001b[0m \u001b[0mb\u001b[0m \u001b[0;32min\u001b[0m \u001b[0mzip\u001b[0m \u001b[0;34m(\u001b[0m\u001b[0mx2\u001b[0m\u001b[0;34m,\u001b[0m\u001b[0mx1\u001b[0m\u001b[0;34m)\u001b[0m\u001b[0;34m]\u001b[0m\u001b[0;34m\u001b[0m\u001b[0;34m\u001b[0m\u001b[0m\n",
            "\u001b[0;31mNameError\u001b[0m: name 'x1' is not defined"
          ]
        }
      ]
    },
    {
      "cell_type": "markdown",
      "metadata": {
        "id": "uuUfufGXhXhc"
      },
      "source": [
        "12) Plotting the flows"
      ]
    },
    {
      "cell_type": "code",
      "metadata": {
        "colab": {
          "base_uri": "https://localhost:8080/",
          "height": 253
        },
        "id": "ajP9s8sEhbCR",
        "outputId": "9a516efa-a0c6-4f2a-e3d4-f67e49df4360"
      },
      "source": [
        "plt.figure(3)\n",
        "plt.plot(t_1, f13, label = '$F_{13}$')\n",
        "plt.plot(t_1, f34, label = '$F_{34}$')\n",
        "plt.plot(t_1, f42, label = '$F_{42}$')\n",
        "plt.plot(t_1, f21, label = '$F_{21}$')\n",
        "plt.xscale('log') \n",
        "plt.yscale('log')\n",
        "plt.title(r'Time variation of the flows')\n",
        "plt.xlabel('Time (s)')\n",
        "plt.ylabel('flows')\n",
        "plt.legend()\n",
        "plt.show()"
      ],
      "execution_count": null,
      "outputs": [
        {
          "output_type": "error",
          "ename": "NameError",
          "evalue": "ignored",
          "traceback": [
            "\u001b[0;31m---------------------------------------------------------------------------\u001b[0m",
            "\u001b[0;31mNameError\u001b[0m                                 Traceback (most recent call last)",
            "\u001b[0;32m<ipython-input-2-ec6453e3a4af>\u001b[0m in \u001b[0;36m<module>\u001b[0;34m()\u001b[0m\n\u001b[1;32m      2\u001b[0m \u001b[0;34m\u001b[0m\u001b[0m\n\u001b[1;32m      3\u001b[0m \u001b[0mplt\u001b[0m\u001b[0;34m.\u001b[0m\u001b[0mfigure\u001b[0m\u001b[0;34m(\u001b[0m\u001b[0;36m3\u001b[0m\u001b[0;34m)\u001b[0m\u001b[0;34m\u001b[0m\u001b[0;34m\u001b[0m\u001b[0m\n\u001b[0;32m----> 4\u001b[0;31m \u001b[0mplt\u001b[0m\u001b[0;34m.\u001b[0m\u001b[0mplot\u001b[0m\u001b[0;34m(\u001b[0m\u001b[0mt_1\u001b[0m\u001b[0;34m,\u001b[0m \u001b[0mf13\u001b[0m\u001b[0;34m,\u001b[0m \u001b[0mlabel\u001b[0m \u001b[0;34m=\u001b[0m \u001b[0;34m'$F_{13}$'\u001b[0m\u001b[0;34m)\u001b[0m\u001b[0;34m\u001b[0m\u001b[0;34m\u001b[0m\u001b[0m\n\u001b[0m\u001b[1;32m      5\u001b[0m \u001b[0mplt\u001b[0m\u001b[0;34m.\u001b[0m\u001b[0mplot\u001b[0m\u001b[0;34m(\u001b[0m\u001b[0mt_1\u001b[0m\u001b[0;34m,\u001b[0m \u001b[0mf34\u001b[0m\u001b[0;34m,\u001b[0m \u001b[0mlabel\u001b[0m \u001b[0;34m=\u001b[0m \u001b[0;34m'$F_{34}$'\u001b[0m\u001b[0;34m)\u001b[0m\u001b[0;34m\u001b[0m\u001b[0;34m\u001b[0m\u001b[0m\n\u001b[1;32m      6\u001b[0m \u001b[0mplt\u001b[0m\u001b[0;34m.\u001b[0m\u001b[0mplot\u001b[0m\u001b[0;34m(\u001b[0m\u001b[0mt_1\u001b[0m\u001b[0;34m,\u001b[0m \u001b[0mf42\u001b[0m\u001b[0;34m,\u001b[0m \u001b[0mlabel\u001b[0m \u001b[0;34m=\u001b[0m \u001b[0;34m'$F_{42}$'\u001b[0m\u001b[0;34m)\u001b[0m\u001b[0;34m\u001b[0m\u001b[0;34m\u001b[0m\u001b[0m\n",
            "\u001b[0;31mNameError\u001b[0m: name 't_1' is not defined"
          ]
        },
        {
          "output_type": "display_data",
          "data": {
            "text/plain": [
              "<Figure size 432x288 with 0 Axes>"
            ]
          },
          "metadata": {
            "tags": []
          }
        }
      ]
    },
    {
      "cell_type": "markdown",
      "metadata": {
        "id": "6r68rqeGh_x_"
      },
      "source": [
        "13) Calculating the energy levels"
      ]
    },
    {
      "cell_type": "markdown",
      "metadata": {
        "id": "gyYrGSnMiatx"
      },
      "source": [
        "14) Defining the length of the array"
      ]
    },
    {
      "cell_type": "code",
      "metadata": {
        "id": "MoshWUn2ig6o"
      },
      "source": [
        "l = 100002"
      ],
      "execution_count": null,
      "outputs": []
    },
    {
      "cell_type": "markdown",
      "metadata": {
        "id": "3ntgWlWCilc2"
      },
      "source": [
        "15) Defining empty arrays for the energy and the $\\Delta E_i$"
      ]
    },
    {
      "cell_type": "code",
      "metadata": {
        "colab": {
          "base_uri": "https://localhost:8080/",
          "height": 235
        },
        "id": "Fm3rmKNUivDo",
        "outputId": "cf97cfe2-fa5e-4253-d9ed-1e3cd5820162"
      },
      "source": [
        "E1 = np.zeros(l)\n",
        "E2 = np.zeros(l)\n",
        "E3 = np.zeros(l)\n",
        "E4 = np.zeros(l)\n",
        "Etotal = np.zeros(l)\n",
        "del_E1 = np.zeros(l)\n",
        "del_E2 = np.zeros(l)\n",
        "del_E3 = np.zeros(l)\n",
        "del_E4 = np.zeros(l)"
      ],
      "execution_count": null,
      "outputs": [
        {
          "output_type": "error",
          "ename": "NameError",
          "evalue": "ignored",
          "traceback": [
            "\u001b[0;31m---------------------------------------------------------------------------\u001b[0m",
            "\u001b[0;31mNameError\u001b[0m                                 Traceback (most recent call last)",
            "\u001b[0;32m<ipython-input-6-69093103aa3f>\u001b[0m in \u001b[0;36m<module>\u001b[0;34m()\u001b[0m\n\u001b[0;32m----> 1\u001b[0;31m \u001b[0mE1\u001b[0m \u001b[0;34m=\u001b[0m \u001b[0mnp\u001b[0m\u001b[0;34m.\u001b[0m\u001b[0mzeros\u001b[0m\u001b[0;34m(\u001b[0m\u001b[0ml\u001b[0m\u001b[0;34m)\u001b[0m\u001b[0;34m\u001b[0m\u001b[0;34m\u001b[0m\u001b[0m\n\u001b[0m\u001b[1;32m      2\u001b[0m \u001b[0mE2\u001b[0m \u001b[0;34m=\u001b[0m \u001b[0mnp\u001b[0m\u001b[0;34m.\u001b[0m\u001b[0mzeros\u001b[0m\u001b[0;34m(\u001b[0m\u001b[0ml\u001b[0m\u001b[0;34m)\u001b[0m\u001b[0;34m\u001b[0m\u001b[0;34m\u001b[0m\u001b[0m\n\u001b[1;32m      3\u001b[0m \u001b[0mE3\u001b[0m \u001b[0;34m=\u001b[0m \u001b[0mnp\u001b[0m\u001b[0;34m.\u001b[0m\u001b[0mzeros\u001b[0m\u001b[0;34m(\u001b[0m\u001b[0ml\u001b[0m\u001b[0;34m)\u001b[0m\u001b[0;34m\u001b[0m\u001b[0;34m\u001b[0m\u001b[0m\n\u001b[1;32m      4\u001b[0m \u001b[0mE4\u001b[0m \u001b[0;34m=\u001b[0m \u001b[0mnp\u001b[0m\u001b[0;34m.\u001b[0m\u001b[0mzeros\u001b[0m\u001b[0;34m(\u001b[0m\u001b[0ml\u001b[0m\u001b[0;34m)\u001b[0m\u001b[0;34m\u001b[0m\u001b[0;34m\u001b[0m\u001b[0m\n\u001b[1;32m      5\u001b[0m \u001b[0mEtotal\u001b[0m \u001b[0;34m=\u001b[0m \u001b[0mnp\u001b[0m\u001b[0;34m.\u001b[0m\u001b[0mzeros\u001b[0m\u001b[0;34m(\u001b[0m\u001b[0ml\u001b[0m\u001b[0;34m)\u001b[0m\u001b[0;34m\u001b[0m\u001b[0;34m\u001b[0m\u001b[0m\n",
            "\u001b[0;31mNameError\u001b[0m: name 'np' is not defined"
          ]
        }
      ]
    },
    {
      "cell_type": "markdown",
      "metadata": {
        "id": "kfJbKlodi2DR"
      },
      "source": [
        "16) Defining the time array"
      ]
    },
    {
      "cell_type": "code",
      "metadata": {
        "id": "UU1Mdomqi8WQ"
      },
      "source": [
        "t = np.linspace(0,1000,l)"
      ],
      "execution_count": null,
      "outputs": []
    },
    {
      "cell_type": "markdown",
      "metadata": {
        "id": "QON4TerIjB5H"
      },
      "source": [
        "17) Finding array positions where t<10 and t<100"
      ]
    },
    {
      "cell_type": "code",
      "metadata": {
        "id": "4DzdgRg0jPdY"
      },
      "source": [
        "b = np.where(t<10)\n",
        "c = np.where(t<100)"
      ],
      "execution_count": null,
      "outputs": []
    },
    {
      "cell_type": "markdown",
      "metadata": {
        "id": "o2hoVZiGjSe2"
      },
      "source": [
        "18) Updating the energy arrays based on the condition when t<10, 10<t<100 and t>100 "
      ]
    },
    {
      "cell_type": "code",
      "metadata": {
        "id": "kDyS0aNrj4OX"
      },
      "source": [
        "for i in range(l):\n",
        "     if i<np.max(b):\n",
        "        L_13 = 0\n",
        "        L_42 = 0\n",
        "        L_31 = 0\n",
        "        L_24 = 0\n",
        "        sum_all_brn1 = l_12*l_24*L31 + l_12*l_24*l_34 + l_12*l_24*L43 + l_12*l_24*L_31 + l_12*l_31*l_42 + l_12*l_31*l_43 + l_12*l_31*L_24 + l_12*l_31*L_42 + l_12*l_34*l_42 + l_12*l_34*L_24 + l_12*l_34*L_42 + l_12*l_42*L_31 + l_12*l_43*L_24 + l_12*l_43*L_31 + l_12*L_24*L_31 + l_12*L_31*L_42 + l_13*l_21*l_34 + l_13*l_21*l_42 + l_13*l_21*l_43 + l_13*l_21*L_42 + l_13*l_24*l_34 + l_13*l_24*l_43 + l_13*l_34*l_42 + l_13*l_34*L_24 + l_13*l_34*L_42 + l_13*l_43*L_24 + l_21*l_31*l_42 + l_21*l_31*l_43 + l_21*l_31*L_42 + l_21*l_34*l_42 + l_21*l_34*L_13 + l_21*l_34*L_42 + l_21*l_42*L_13 + l_21*l_42*L_31 + l_21*l_43*L_13 + l_21*l_43*L_31 + l_21*L_13*L_42 + l_21*L_31*L_42 + l_24*l_31*l_43 + l_24*l_34*L_13 + l_24*l_43*L_13 + l_24*l_43*L_31 + l_31*l_43*L_24 + l_34*l_42*L_13 + l_34*L_13*L_24 + l_34*L_13*L_42 + l_43*L_13*L_24 + l_43*L_24*L_31        \n",
        "        sb_1 = (l_21*l_31*l_42 + l_21*l_31*l_43 + l_21*l_31*L_42 + l_21*l_34*l_42 + l_21*l_34*L_42 + l_21*l_42*L_31 + l_21*l_43*L_31 + l_21*L_31*L_42 + l_24*l_31*l_43 + l_24*l_43*L_31 + l_31*l_43*L_24 + l_43*L_24*L_31)\n",
        "        sb_2 = (l_12*l_31*l_42 + l_12*l_31*l_43 + l_12*l_31*l_42 + l_12*l_34*l_42 + l_12*l_34*L_42 + l_12*l_42*L_31 + l_12*l_43*L_31 + l_12*L_31*L_42 + l_13*l_34*l_42 + l_13*l_34*L_42 + l_34*l_42*L_13 + l_34*L_13*L_42)\n",
        "        sb_3 = (l_12*l_24*l_43 + l_12*l_43*L_24 + l_13*l_21*l_42 + l_13*l_21*l_43 + l_13*l_21*L_42 + l_13*l_24*l_43 + l_13*l_43*L_24 + l_21*l_42*L_13 + l_21*l_43*L_13 + l_21*L_13*L_42 + l_24*l_43*L_13 + l_43*L_13*L_24)\n",
        "        sb_4 = (l_12*l_24*l_31 + l_12*l_24*l_34 + l_12*l_24*L_31 + l_12*l_31*L_24 + l_12*l_34*L_24 + l_12*L_24*L_31 + l_13*l_21*l_34 + l_13*l_24*l_34 + l_13*l_34*L_24 + l_21*l_34*L_13 + l_24*l_34*L_13 + l_34*L_13*L_24)\n",
        "        sb_i = [sb_1, sb_2, sb_3, sb_4] \n",
        "        sb_min = np.max(sb_i)\n",
        "        E1[i] = sum_all_brn1-sb_1\n",
        "        E2[i] = sum_all_brn1-sb_2\n",
        "        E3[i] = sum_all_brn1-sb_3\n",
        "        E4[i] = sum_all_brn1-sb_4\n",
        "        Etotal[i] = sum_all_brn1\n",
        "        del_E1[i] = np.log(sb_min/sb_1)\n",
        "        del_E2[i] = np.log(sb_min/sb_2)\n",
        "        del_E3[i] = np.log(sb_min/sb_3)\n",
        "        del_E4[i] = np.log(sb_min/sb_4)\n",
        "     elif ((np.max(b)<=i) and (i<np.max(c))):\n",
        "        factor = 0.5 * (1 + special.erf((t[i] - 10)/1))\n",
        "        L_13 = 5 * factor\n",
        "        L_42 = 3 * factor\n",
        "        L_31 = 0\n",
        "        L_24 = 0\n",
        "        sum_all_brn = l_12*l_24*L31 + l_12*l_24*l_34 + l_12*l_24*L43 + l_12*l_24*L_31 + l_12*l_31*l_42 + l_12*l_31*l_43 + l_12*l_31*L_24 + l_12*l_31*L_42 + l_12*l_34*l_42 + l_12*l_34*L_24 + l_12*l_34*L_42 + l_12*l_42*L_31 + l_12*l_43*L_24 + l_12*l_43*L_31 + l_12*L_24*L_31 + l_12*L_31*L_42 + l_13*l_21*l_34 + l_13*l_21*l_42 + l_13*l_21*l_43 + l_13*l_21*L_42 + l_13*l_24*l_34 + l_13*l_24*l_43 + l_13*l_34*l_42 + l_13*l_34*L_24 + l_13*l_34*L_42 + l_13*l_43*L_24 + l_21*l_31*l_42 + l_21*l_31*l_43 + l_21*l_31*L_42 + l_21*l_34*l_42 + l_21*l_34*L_13 + l_21*l_34*L_42 + l_21*l_42*L_13 + l_21*l_42*L_31 + l_21*l_43*L_13 + l_21*l_43*L_31 + l_21*L_13*L_42 + l_21*L_31*L_42 + l_24*l_31*l_43 + l_24*l_34*L_13 + l_24*l_43*L_13 + l_24*l_43*L_31 + l_31*l_43*L_24 + l_34*l_42*L_13 + l_34*L_13*L_24 + l_34*L_13*L_42 + l_43*L_13*L_24 + l_43*L_24*L_31        \n",
        "        sb_11 = (l_21*l_31*l_42 + l_21*l_31*l_43 + l_21*l_31*L_42 + l_21*l_34*l_42 + l_21*l_34*L_42 + l_21*l_42*L_31 + l_21*l_43*L_31 + l_21*L_31*L_42 + l_24*l_31*l_43 + l_24*l_43*L_31 + l_31*l_43*L_24 + l_43*L_24*L_31)\n",
        "        sb_22 = (l_12*l_31*l_42 + l_12*l_31*l_43 + l_12*l_31*l_42 + l_12*l_34*l_42 + l_12*l_34*L_42 + l_12*l_42*L_31 + l_12*l_43*L_31 + l_12*L_31*L_42 + l_13*l_34*l_42 + l_13*l_34*L_42 + l_34*l_42*L_13 + l_34*L_13*L_42)\n",
        "        sb_33 = (l_12*l_24*l_43 + l_12*l_43*L_24 + l_13*l_21*l_42 + l_13*l_21*l_43 + l_13*l_21*L_42 + l_13*l_24*l_43 + l_13*l_43*L_24 + l_21*l_42*L_13 + l_21*l_43*L_13 + l_21*L_13*L_42 + l_24*l_43*L_13 + l_43*L_13*L_24)\n",
        "        sb_44 = (l_12*l_24*l_31 + l_12*l_24*l_34 + l_12*l_24*L_31 + l_12*l_31*L_24 + l_12*l_34*L_24 + l_12*L_24*L_31 + l_13*l_21*l_34 + l_13*l_24*l_34 + l_13*l_34*L_24 + l_21*l_34*L_13 + l_24*l_34*L_13 + l_34*L_13*L_24)\n",
        "        sb = [sb_11, sb_22, sb_33, sb_44]\n",
        "        sb_min1 = np.max(sb)#The branching that corresponds to the minimum energy has the maximum value and that is why I am calling it sb_min\n",
        "        E1[i] = sum_all_brn-sb_11\n",
        "        E2[i] = sum_all_brn-sb_22\n",
        "        E3[i] = sum_all_brn-sb_33\n",
        "        E4[i] = sum_all_brn-sb_33\n",
        "        Etotal[i] = sum_all_brn\n",
        "        del_E1[i] = np.log(sb_min1/sb_11)\n",
        "        del_E2[i] = np.log(sb_min1/sb_22)\n",
        "        del_E3[i] = np.log(sb_min1/sb_33)\n",
        "        del_E4[i] = np.log(sb_min1/sb_44)\n",
        "     else:\n",
        "        factor = 0.5 * (1 + special.erf((t[i] - 10)/1))\n",
        "        L_13 = 5 * factor\n",
        "        L_42 = 3 * factor\n",
        "        factor1 = 0.5 * (1 + special.erf((t[i] - 100)/1))\n",
        "        L_31 = 5 * factor1\n",
        "        L_24 = 3 * factor1\n",
        "        sum_all_brn2 = l_12*l_24*L31 + l_12*l_24*l_34 + l_12*l_24*L43 + l_12*l_24*L_31 + l_12*l_31*l_42 + l_12*l_31*l_43 + l_12*l_31*L_24 + l_12*l_31*L_42 + l_12*l_34*l_42 + l_12*l_34*L_24 + l_12*l_34*L_42 + l_12*l_42*L_31 + l_12*l_43*L_24 + l_12*l_43*L_31 + l_12*L_24*L_31 + l_12*L_31*L_42 + l_13*l_21*l_34 + l_13*l_21*l_42 + l_13*l_21*l_43 + l_13*l_21*L_42 + l_13*l_24*l_34 + l_13*l_24*l_43 + l_13*l_34*l_42 + l_13*l_34*L_24 + l_13*l_34*L_42 + l_13*l_43*L_24 + l_21*l_31*l_42 + l_21*l_31*l_43 + l_21*l_31*L_42 + l_21*l_34*l_42 + l_21*l_34*L_13 + l_21*l_34*L_42 + l_21*l_42*L_13 + l_21*l_42*L_31 + l_21*l_43*L_13 + l_21*l_43*L_31 + l_21*L_13*L_42 + l_21*L_31*L_42 + l_24*l_31*l_43 + l_24*l_34*L_13 + l_24*l_43*L_13 + l_24*l_43*L_31 + l_31*l_43*L_24 + l_34*l_42*L_13 + l_34*L_13*L_24 + l_34*L_13*L_42 + l_43*L_13*L_24 + l_43*L_24*L_31        \n",
        "        sb_111 = (l_21*l_31*l_42 + l_21*l_31*l_43 + l_21*l_31*L_42 + l_21*l_34*l_42 + l_21*l_34*L_42 + l_21*l_42*L_31 + l_21*l_43*L_31 + l_21*L_31*L_42 + l_24*l_31*l_43 + l_24*l_43*L_31 + l_31*l_43*L_24 + l_43*L_24*L_31)\n",
        "        sb_222 = (l_12*l_31*l_42 + l_12*l_31*l_43 + l_12*l_31*l_42 + l_12*l_34*l_42 + l_12*l_34*L_42 + l_12*l_42*L_31 + l_12*l_43*L_31 + l_12*L_31*L_42 + l_13*l_34*l_42 + l_13*l_34*L_42 + l_34*l_42*L_13 + l_34*L_13*L_42)\n",
        "        sb_333 = (l_12*l_24*l_43 + l_12*l_43*L_24 + l_13*l_21*l_42 + l_13*l_21*l_43 + l_13*l_21*L_42 + l_13*l_24*l_43 + l_13*l_43*L_24 + l_21*l_42*L_13 + l_21*l_43*L_13 + l_21*L_13*L_42 + l_24*l_43*L_13 + l_43*L_13*L_24)\n",
        "        sb_444 = (l_12*l_24*l_31 + l_12*l_24*l_34 + l_12*l_24*L_31 + l_12*l_31*L_24 + l_12*l_34*L_24 + l_12*L_24*L_31 + l_13*l_21*l_34 + l_13*l_24*l_34 + l_13*l_34*L_24 + l_21*l_34*L_13 + l_24*l_34*L_13 + l_34*L_13*L_24)\n",
        "        sb1 = [sb_111, sb_222, sb_333, sb_444]\n",
        "        sb_min2 = np.max(sb1)\n",
        "        E1[i] = sum_all_brn2-sb_111\n",
        "        E2[i] = sum_all_brn2-sb_222\n",
        "        E3[i] = sum_all_brn2-sb_333\n",
        "        E4[i] = sum_all_brn2-sb_444\n",
        "        Etotal[i] = sum_all_brn2\n",
        "        del_E1[i] = np.log(sb_min2/sb_111)\n",
        "        del_E2[i] = np.log(sb_min2/sb_222)\n",
        "        del_E3[i] = np.log(sb_min2/sb_333)\n",
        "        del_E4[i] = np.log(sb_min2/sb_444)"
      ],
      "execution_count": null,
      "outputs": []
    },
    {
      "cell_type": "markdown",
      "metadata": {
        "id": "TEfTXzX4zNME"
      },
      "source": [
        "19) Plotting the energy levels"
      ]
    },
    {
      "cell_type": "code",
      "metadata": {
        "id": "uuLoLRxKzVSv"
      },
      "source": [
        "t1 = np.linspace(0,1000,l)\n",
        "\n",
        "\n",
        "plt.figure(1)\n",
        "plt.plot(t1,E1, label = r'$E_1$')\n",
        "plt.plot(t1,E2, label = r'$E_2$')\n",
        "plt.plot(t1,E3, label = r'$E_3$')\n",
        "plt.plot(t1,E4, label = r'$E_4$')\n",
        "plt.plot(t1, Etotal, label = r'$E_{Overall}$')\n",
        "plt.xscale('log')\n",
        "plt.title('Energy vs time')\n",
        "plt.ylabel('Energy')\n",
        "plt.xlabel('time')\n",
        "plt.legend()\n",
        "plt.show()"
      ],
      "execution_count": null,
      "outputs": []
    },
    {
      "cell_type": "markdown",
      "metadata": {
        "id": "-PG3h_HYzaQ0"
      },
      "source": [
        "20) Calculating $\\Delta E_i$"
      ]
    },
    {
      "cell_type": "code",
      "metadata": {
        "id": "GRcPwe15zlPI"
      },
      "source": [
        "E1_min = np.min(E1)\n",
        "E2_min = np.min(E2)\n",
        "E3_min = np.min(E3)\n",
        "E4_min = np.min(E4)\n",
        "\n",
        "del_E = [E1-E1_min, E2 - E2_min, E3 - E3_min, E4 - E4_min]"
      ],
      "execution_count": null,
      "outputs": []
    },
    {
      "cell_type": "markdown",
      "metadata": {
        "id": "niZzRDHgzrQT"
      },
      "source": [
        "21) Plotting $\\Delta E_i$"
      ]
    },
    {
      "cell_type": "code",
      "metadata": {
        "id": "EtQhQlh4zxH5"
      },
      "source": [
        "plt.figure(3)\n",
        "plt.plot(t1, del_E1, label = '$E_1 - E_{min}$')\n",
        "plt.plot(t1, del_E2, label = '$E_2 - E_{min}$')\n",
        "plt.plot(t1, del_E3, label = '$E_3 - E_{min}$')\n",
        "plt.plot(t1, del_E4, label = '$E_4 - E_{min}$')\n",
        "plt.xscale('log') \n",
        "plt.xlabel('Time (s)')\n",
        "plt.ylabel('$E_i - E_{min}$')\n",
        "plt.legend()\n",
        "plt.show()  "
      ],
      "execution_count": null,
      "outputs": []
    }
  ]
}